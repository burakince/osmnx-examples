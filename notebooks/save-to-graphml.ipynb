{
 "cells": [
  {
   "cell_type": "code",
   "execution_count": 1,
   "metadata": {},
   "outputs": [
    {
     "data": {
      "text/plain": [
       "'0.16.1'"
      ]
     },
     "execution_count": 1,
     "metadata": {},
     "output_type": "execute_result"
    }
   ],
   "source": [
    "import osmnx as ox\n",
    "%matplotlib inline\n",
    "\n",
    "utn = ox.settings.useful_tags_node\n",
    "oxna = ox.settings.osm_xml_node_attrs\n",
    "oxnt = ox.settings.osm_xml_node_tags\n",
    "utw = ox.settings.useful_tags_way\n",
    "oxwa = ox.settings.osm_xml_way_attrs\n",
    "oxwt = ox.settings.osm_xml_way_tags\n",
    "utn = list(set(utn + oxna + oxnt))\n",
    "utw = list(set(utw + oxwa + oxwt))\n",
    "ox.config(useful_tags_node=utn, useful_tags_way=utw, use_cache=True, log_console=True, timeout=3600)\n",
    "ox.__version__"
   ]
  },
  {
   "cell_type": "code",
   "execution_count": 2,
   "metadata": {},
   "outputs": [
    {
     "name": "stdout",
     "output_type": "stream",
     "text": [
      "CPU times: user 8min 55s, sys: 8.01 s, total: 9min 3s\n",
      "Wall time: 10min 46s\n"
     ]
    }
   ],
   "source": [
    "%%time\n",
    "place = 'London'\n",
    "G = ox.graph_from_place(place)"
   ]
  },
  {
   "cell_type": "code",
   "execution_count": 3,
   "metadata": {},
   "outputs": [
    {
     "name": "stdout",
     "output_type": "stream",
     "text": [
      "CPU times: user 2min 34s, sys: 3.34 s, total: 2min 38s\n",
      "Wall time: 3min 6s\n"
     ]
    }
   ],
   "source": [
    "%%time\n",
    "filepath = './data/london.graphml'\n",
    "ox.save_graphml(G, filepath=filepath)"
   ]
  },
  {
   "cell_type": "code",
   "execution_count": 4,
   "metadata": {},
   "outputs": [
    {
     "name": "stdout",
     "output_type": "stream",
     "text": [
      "CPU times: user 6min 51s, sys: 12.8 s, total: 7min 3s\n",
      "Wall time: 9min 4s\n"
     ]
    }
   ],
   "source": [
    "%%time\n",
    "filepath = './data/london-gephi.graphml'\n",
    "ox.save_graphml(G, filepath=filepath, gephi=True)"
   ]
  },
  {
   "cell_type": "code",
   "execution_count": null,
   "metadata": {},
   "outputs": [],
   "source": []
  }
 ],
 "metadata": {
  "kernelspec": {
   "display_name": "Python (ox)",
   "language": "python",
   "name": "ox"
  },
  "language_info": {
   "codemirror_mode": {
    "name": "ipython",
    "version": 3
   },
   "file_extension": ".py",
   "mimetype": "text/x-python",
   "name": "python",
   "nbconvert_exporter": "python",
   "pygments_lexer": "ipython3",
   "version": "3.8.5"
  }
 },
 "nbformat": 4,
 "nbformat_minor": 4
}
